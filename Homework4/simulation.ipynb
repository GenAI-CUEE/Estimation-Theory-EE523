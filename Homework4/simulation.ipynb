{
 "cells": [
  {
   "cell_type": "markdown",
   "metadata": {},
   "source": [
    "Before you turn this problem in, make sure everything runs as expected. First, **restart the kernel** (in the menubar, select Kernel$\\rightarrow$Restart) and then **run all cells** (in the menubar, select Cell$\\rightarrow$Run All).\n",
    "\n",
    "Make sure you fill in any place that says `YOUR CODE HERE` or \"YOUR ANSWER HERE\", as well as your name and collaborators below:"
   ]
  },
  {
   "cell_type": "code",
   "execution_count": 3,
   "metadata": {},
   "outputs": [],
   "source": [
    "NAME = \"\"\n",
    "STUDENT_ID = \"\""
   ]
  },
  {
   "cell_type": "markdown",
   "metadata": {},
   "source": [
    "---"
   ]
  },
  {
   "cell_type": "markdown",
   "metadata": {},
   "source": [
    "# Homework 4  [![Open In Colab](https://colab.research.google.com/assets/colab-badge.svg)](https://colab.research.google.com/github/GabbySuwichaya/Estimation-Theory-EE523/blob/master/Homework4/simulation.ipynb)\n"
   ]
  },
  {
   "cell_type": "markdown",
   "metadata": {},
   "source": [
    "---"
   ]
  },
  {
   "cell_type": "markdown",
   "metadata": {},
   "source": [
    "All the implementation (36 scores) shall be done in a single Jupyter notebook. \n",
    "\n",
    "\n",
    "*Your scores will be given if and only if the `.ipynb` can run successfully and all the  **plots and output showing without any error**. So please read how to submit your code in Readme.md*"
   ]
  },
  {
   "cell_type": "markdown",
   "metadata": {},
   "source": [
    "## Probabilistic models"
   ]
  },
  {
   "cell_type": "markdown",
   "metadata": {},
   "source": [
    "---"
   ]
  },
  {
   "cell_type": "markdown",
   "metadata": {},
   "source": [
    "Suppose that we want to estimate $\\textbf{X} \\in \\mathcal{R^N}$ from the observed data $\\mathbf{Y} \\in \\mathcal{R^N}$ where $\\mathbf{Y} = \\mathbf{X} + N$; where $N\\in \\mathcal{R}$ is the noise corrupting the target signal. \n",
    "\n",
    "The probabilistic relationship between $\\mathbf{X}$ and $\\mathbf{Y}$ can be represented by the following probabilistic models:"
   ]
  },
  {
   "cell_type": "markdown",
   "metadata": {},
   "source": [
    "- The likelihood is $ f_{\\mathbf{Y}|\\mathbf{X}}(\\mathbf{y}|\\mathbf{x}) = \\mathcal{N}(\\mathbf{y}| \\mathbf{x}, \\sigma_V^2) \\propto \\prod_i \\frac{1}{2 \\pi \\sigma_V^2} \\exp{ - \\frac{(y_i - x_i)^2}{2 \\sigma_V^2} }$. \n",
    "\n",
    "- The prior for $x$ is a Gaussian-Gamma distribution, that is,  \n",
    "\n",
    "\t- $\\mathbf{X} \\sim f_{\\mathbf{X}}(\\mathbf{x})$  is $ f_{X }(\\mathbf{x}| \\mathbf{\\mu}, \\mathbf{\\tau}) = \\mathcal{N}(\\mathbf{x}| \\mathbf{\\mu}, \\mathbf{\\tau}) \\propto  \\prod_i \\frac{\\tau_i}{2 \\pi} \\exp{ \\frac{\\tau_i (x_i - \\mu_i)^2}{2} }$ \n",
    "\t- $\\mathbf{\\tau} \\sim f_{\\mathbf{\\tau}}(\\mathbf{\\tau}) = \\text{Gamma}(\\mathbf{\\tau}; \\alpha, \\beta) \\propto \\prod_i  \\tau_i^{\\alpha - 1} \\exp{- \\beta \\tau_i}$  \n",
    "\n",
    "It is assume that the true distribution of $\\mathbf{X}$ is the same as the prior distribution.  \n",
    "\n",
    "Therefore, the joint distribution among the random variables are \n",
    "\n",
    "$$p(\\mathbf{y}, \\mathbf{x}, \\mathbf{\\tau}; \\mathbf{\\mu}, \\sigma_V^2, \\alpha, \\beta) = \\mathcal{N}(\\mathbf{y}| \\mathbf{x}, \\sigma_V^2) \\mathcal{N}(\\mathbf{x}| \\mathbf{\\mu}, \\mathbf{\\tau}) \\text{Gamma}(\\mathbf{\\tau}; \\alpha, \\beta).$$\n",
    "\n",
    "Your observations are the random sample vector $\\mathbf{Y}^1, \\mathbf{Y}^2, ..., \\mathbf{Y}^k$ that are independently and identically distributes according to each element in the multi-variate $\\mathbf{Y}^j$ in $\\mathcal{R^N}$."
   ]
  },
  {
   "cell_type": "markdown",
   "metadata": {},
   "source": [
    "*If you somehow find out that your answers in the Quiz 2 was not right,  feel free to **correct** them in this one.*"
   ]
  },
  {
   "cell_type": "markdown",
   "metadata": {},
   "source": [
    "---"
   ]
  },
  {
   "cell_type": "code",
   "execution_count": 4,
   "metadata": {},
   "outputs": [
    {
     "name": "stdout",
     "output_type": "stream",
     "text": [
      "Requirement already satisfied: numpy in /home/gapp/anaconda3/lib/python3.11/site-packages (1.24.3)\n",
      "Requirement already satisfied: pandas in /home/gapp/anaconda3/lib/python3.11/site-packages (1.5.3)\n",
      "Requirement already satisfied: tqdm in /home/gapp/anaconda3/lib/python3.11/site-packages (4.65.0)\n",
      "Requirement already satisfied: matplotlib in /home/gapp/anaconda3/lib/python3.11/site-packages (3.7.1)\n",
      "Requirement already satisfied: python-dateutil>=2.8.1 in /home/gapp/anaconda3/lib/python3.11/site-packages (from pandas) (2.8.2)\n",
      "Requirement already satisfied: pytz>=2020.1 in /home/gapp/anaconda3/lib/python3.11/site-packages (from pandas) (2022.7)\n",
      "Requirement already satisfied: contourpy>=1.0.1 in /home/gapp/anaconda3/lib/python3.11/site-packages (from matplotlib) (1.0.5)\n",
      "Requirement already satisfied: cycler>=0.10 in /home/gapp/anaconda3/lib/python3.11/site-packages (from matplotlib) (0.11.0)\n",
      "Requirement already satisfied: fonttools>=4.22.0 in /home/gapp/anaconda3/lib/python3.11/site-packages (from matplotlib) (4.25.0)\n",
      "Requirement already satisfied: kiwisolver>=1.0.1 in /home/gapp/anaconda3/lib/python3.11/site-packages (from matplotlib) (1.4.4)\n",
      "Requirement already satisfied: packaging>=20.0 in /home/gapp/anaconda3/lib/python3.11/site-packages (from matplotlib) (23.0)\n",
      "Requirement already satisfied: pillow>=6.2.0 in /home/gapp/anaconda3/lib/python3.11/site-packages (from matplotlib) (9.4.0)\n",
      "Requirement already satisfied: pyparsing>=2.3.1 in /home/gapp/anaconda3/lib/python3.11/site-packages (from matplotlib) (3.0.9)\n",
      "Requirement already satisfied: six>=1.5 in /home/gapp/anaconda3/lib/python3.11/site-packages (from python-dateutil>=2.8.1->pandas) (1.16.0)\n"
     ]
    }
   ],
   "source": [
    "! pip install numpy pandas tqdm matplotlib"
   ]
  },
  {
   "cell_type": "code",
   "execution_count": 5,
   "metadata": {},
   "outputs": [],
   "source": [
    "import numpy as np  \n",
    "import joypy\n",
    "from matplotlib import cm\n",
    "import matplotlib.pyplot as plt\n",
    "import pandas as pd\n",
    "import os"
   ]
  },
  {
   "cell_type": "markdown",
   "metadata": {},
   "source": [
    "## Estimator Simulation"
   ]
  },
  {
   "cell_type": "markdown",
   "metadata": {},
   "source": [
    "- [Q 1. Data geneation (6 scores)](#q1-data-generation-total-6-scores)\n",
    "\n",
    "    -  [Q 1.1 Parameter settings](#q11-parameter-settings)\n",
    "\n",
    "    -  [Q 1.2 Data generation (2 score)](#q12-data-generation-according-to-the-above-specifications-ie-the-likelihood-and-priors--2-scores)\n",
    "\n",
    "    -  [Q 1.3 Data visualization (4 score)](#q13-show-that-the-distributions-are-correct-by-histograms-or-any-suitable-visualization-4-scores)\n",
    "\n",
    "\n",
    "- [Q 2. Implemetation of MLE/MAP (6 scores)](#q2-implementation-of-mapmle-estimator-12-scores)\n",
    "\n",
    "    - [Q 2.1 Analytical solutions for MAP/MLE estimators (2 scores)](#q21-analytical-solutions-of-mapmle-estimator-for-4-scores)\n",
    "\n",
    "    - [Q 2.2 Implementation of MAP/MLE estimators (4 scores)](#q-22-implementation-of-mapmle-estimator-for-and-8-scores)\n",
    "\n",
    "\n",
    "- [Q 3. Verify your results (8 scores)](#q3-verify-your-results-8-scores)\n",
    "\n",
    "    - [Q 3.1 Check your result with respect to the generated data (4 scores)](#q31-checking-with-respect-to-the-generated-4-scores)\n",
    "\n",
    "    - [Q 3.2 Verify with KL-Divergence (4 scores)](#q32-verify-with--divergence--4-scores)\n",
    "\n",
    " \n",
    "- [Q 4. FitDist an alternative tool (10 scores)](#q4-alternative-tools-fitdist-or-scipystatsfit10-scores)\n",
    "\n",
    "    - [Q 4.1 What is the algorithm behind Fitdist (1 scores)](#q41-what-is-the-algorithm-behind-scipystatsfit-a-mle-or-b-map--1-score)\n",
    "\n",
    "    - [Q 4.2 Adjust Fitdist for your problem (4 scores)](#q42-implement-scipystatsfit-for-estimating-which-is-the-explectation-of--4-scores)\n",
    "    \n",
    "    - [Q 4.3 Check your results (5 scores)](#q43-check-your-results--5-scores)"
   ]
  },
  {
   "cell_type": "markdown",
   "metadata": {},
   "source": [
    "---"
   ]
  },
  {
   "cell_type": "markdown",
   "metadata": {},
   "source": [
    "## Q1. Data generation (Total 6 scores)"
   ]
  },
  {
   "cell_type": "markdown",
   "metadata": {},
   "source": [
    "**Scoring**\n",
    "\n",
    "- **Data generation setting.**  Plan to generate the data .... \n",
    "\n",
    "- **Implementation.**  Data generation according to the above specifications, ie, the likelihood and priors (2 scores)\n",
    "\n",
    "- **Data visualization.** Show that the distributions are right by histograms or any suitable visualization (4 scores)"
   ]
  },
  {
   "cell_type": "markdown",
   "metadata": {},
   "source": [
    "---"
   ]
  },
  {
   "cell_type": "markdown",
   "metadata": {},
   "source": [
    "###  Q1.1 Parameter settings ....  "
   ]
  },
  {
   "cell_type": "markdown",
   "metadata": {},
   "source": [
    "Type down the python code to assign the values for \n",
    "\n",
    "- `K = 50` \n",
    "- `N = 2` \n",
    "- `M = 1000`\n",
    "\n",
    "where  K is the number of random observation; N is the number of random variable dimension; M is the number of samples."
   ]
  },
  {
   "cell_type": "code",
   "execution_count": 6,
   "metadata": {},
   "outputs": [],
   "source": [
    "K = 50\n",
    "N = 2\n",
    "M = 1000"
   ]
  },
  {
   "cell_type": "markdown",
   "metadata": {},
   "source": [
    "The constants are\n",
    "- `sigma_v` : $\\sigma_V^2$ = 4\n",
    "- `alpha` : $\\alpha$ = 4\n",
    "- `beta` : $\\beta$ = 2\n",
    "- `mu` : $\\mu$ = a vector of zeros of size M x 1 x N"
   ]
  },
  {
   "cell_type": "code",
   "execution_count": 7,
   "metadata": {},
   "outputs": [],
   "source": [
    "sigma_v = 4\n",
    "alpha = 4\n",
    "beta  = 2\n",
    "mu    = np.zeros((M, 1, N)) + 0.5"
   ]
  },
  {
   "cell_type": "markdown",
   "metadata": {},
   "source": [
    "---"
   ]
  },
  {
   "cell_type": "markdown",
   "metadata": {},
   "source": [
    "###  Q1.2 Data generation according to the above specifications, ie, the likelihood and priors .... (2 scores)"
   ]
  },
  {
   "cell_type": "markdown",
   "metadata": {},
   "source": [
    "Please follow the symbol belows to generate samples for $\\mathbf{Y}$, $\\mathbf{X}$, $N$, $\\mathbf{\\tau}$ which are RVs;  \n",
    "\n",
    "\n",
    "- `tau` : $\\mathbf{\\tau}$ of size M x K x N \n",
    "- `X` : $\\mathbf{X}$ of size M x 1 x N\n",
    "- `Noise` : $N$      of size M x K x 1\n",
    "- `Y` : $\\mathbf{Y}$ of size M x K x N\n",
    "\n",
    "\n",
    "For example .... \n",
    "\n",
    "``` \n",
    "Noise = randn(M, K, 1) \n",
    "X   = randn(M, 1, N) \n",
    "Y   = X  + Noise\n",
    "```\n",
    "Note that above example is in Matlab and is incorrect ....  You are simulating everything in Python naka...."
   ]
  },
  {
   "cell_type": "code",
   "execution_count": null,
   "metadata": {
    "deletable": false,
    "nbgrader": {
     "checksum": "35d0879547b98db710fdbf14a362bc44",
     "grade": false,
     "grade_id": "q12_data_generation",
     "locked": false,
     "schema_version": 3,
     "solution": true,
     "task": false
    }
   },
   "outputs": [],
   "source": [
    "# tau   = np.random.gamma ....\n",
    "# X     = mu + ....\n",
    "# Noise = np.random.randn ....\n",
    "# Y     = X + Noise \n",
    "\n",
    "\n",
    "# YOUR CODE HERE\n",
    "raise NotImplementedError()"
   ]
  },
  {
   "cell_type": "code",
   "execution_count": null,
   "metadata": {
    "deletable": false,
    "editable": false,
    "nbgrader": {
     "checksum": "db443c58e8910d72acea8bf1ad69dd6c",
     "grade": true,
     "grade_id": "q12_data_generation_testing",
     "locked": true,
     "points": 2,
     "schema_version": 3,
     "solution": false,
     "task": false
    }
   },
   "outputs": [],
   "source": [
    "# Check that Y is an numpy array with the dimension M x K x N\n",
    "assert  M == Y.shape[0]   \n",
    "assert  K == Y.shape[1]  \n",
    "assert  N == Y.shape[2]   \n",
    "\n",
    "# Check that  X and tau are numpy arrays with the dimension M x 1 x N\n",
    "assert tau.shape[0] == X.shape[0]  == M   \n",
    "assert tau.shape[2] == X.shape[2]  == N  \n",
    "assert tau.shape[1] == X.shape[1]  == 1 \n",
    "\n",
    "# Check that Noise is the numpy array with the dimension M x K x 1  \n",
    "assert Noise.shape[0] == M   \n",
    "assert Noise.shape[1] == K   \n",
    "assert Noise.shape[2] == 1"
   ]
  },
  {
   "cell_type": "markdown",
   "metadata": {},
   "source": [
    "---"
   ]
  },
  {
   "cell_type": "markdown",
   "metadata": {},
   "source": [
    "### Q1.3 Show that the distributions are correct by histograms or any suitable visualization (4 scores)"
   ]
  },
  {
   "cell_type": "markdown",
   "metadata": {},
   "source": [
    "You can use the following histogram function to plot your data."
   ]
  },
  {
   "cell_type": "code",
   "execution_count": null,
   "metadata": {},
   "outputs": [],
   "source": [
    "def hist_plot(data_population_list, RV_label=[\"X\"], color_list=['blue'], num_bins=100, dirpath=None, ploting_name=None): \n",
    "    ploting_title = \"Histogram\" \n",
    "    if ploting_name is None:\n",
    "        ploting_name = ploting_title\n",
    "\n",
    "    for sample_, RV_label_, color_ in zip(data_population_list, RV_label, color_list):\n",
    "        plt.hist(sample_, bins=num_bins, density=False, color=color_, alpha = 0.4, label=\"%s [#%d]\" % (RV_label_, len(sample_)))   \n",
    "\n",
    "    plt.legend(loc='upper right')\n",
    "    plt.ylabel(\"#Counts\")\n",
    "    plt.xlabel(\"Sample Values\")\n",
    "    plt.title(ploting_title) \n",
    "    plt.grid() \n",
    "    if dirpath is not None:\n",
    "        plt.savefig(os.path.join(dirpath, \"%s.png\" % (ploting_name)))\n",
    "        print(\"Save histrogram %s.png and .pdf at %s\" % (ploting_name, dirpath))\n",
    "    plt.show() "
   ]
  },
  {
   "cell_type": "code",
   "execution_count": null,
   "metadata": {},
   "outputs": [],
   "source": [
    "# Example usage... \n",
    "x_example_1 = np.random.randn(M, K, 1)\n",
    "x_example_2 = np.random.randn(M, K, 1)\n",
    "\n",
    "data_population_list = [x_example_1[:,0,0], x_example_2[:,0,0]]\n",
    "\n",
    "RV_label_list = [\"$X_1$\",   \"$X_2$\"]\n",
    "color_list    = [\"red\", \"blue\"]  \n",
    "\n",
    "dirpath = os.getcwd()\n",
    "ploting_name = \"example_histrogram\"\n",
    "hist_plot(data_population_list, RV_label=RV_label_list, color_list=color_list, num_bins=100, dirpath=dirpath, ploting_name=ploting_name)"
   ]
  },
  {
   "cell_type": "markdown",
   "metadata": {},
   "source": [
    "---"
   ]
  },
  {
   "cell_type": "markdown",
   "metadata": {},
   "source": [
    "#### A. Show histrogram of `tau` .... Is it the right Gamma distribution? (1 score)"
   ]
  },
  {
   "cell_type": "code",
   "execution_count": null,
   "metadata": {
    "deletable": false,
    "nbgrader": {
     "checksum": "fd47801df42247bf8e77463ec440bf82",
     "grade": false,
     "grade_id": "q13_visualize_tau_hist",
     "locked": false,
     "schema_version": 3,
     "solution": true,
     "task": false
    }
   },
   "outputs": [],
   "source": [
    "dirpath = os.getcwd()\n",
    "ploting_name = \"Q1.3.A.histrogram_of_tau_gamma_distribution\"\n",
    "\n",
    "RV_label_list = [r'$\\tau_i$, $\\alpha$=%d, $\\beta$=%d' % (alpha, beta)]  ### < Note that you need to show the parameters\n",
    "color_list    = [\"purple\"]  \n",
    "\n",
    "# Your code starts here ...\n",
    "\n",
    "# Hint!\n",
    "\n",
    "# Define the data population as list of tau[:, 0, 0] < Note that you can use only the samples of a random sample in the first dimension.\n",
    "# YOUR CODE HERE\n",
    "raise NotImplementedError()\n"
   ]
  },
  {
   "cell_type": "code",
   "execution_count": null,
   "metadata": {
    "deletable": false,
    "editable": false,
    "nbgrader": {
     "checksum": "7960f4b2d7233ea1e10f251e37de8765",
     "grade": true,
     "grade_id": "q13_visualize_tau_hist_plot",
     "locked": true,
     "points": 1,
     "schema_version": 3,
     "solution": false,
     "task": false
    }
   },
   "outputs": [],
   "source": [
    "hist_plot(data_population_list, RV_label=RV_label_list, color_list=color_list, num_bins=100, dirpath=dirpath, ploting_name=ploting_name)"
   ]
  },
  {
   "cell_type": "markdown",
   "metadata": {},
   "source": [
    "---"
   ]
  },
  {
   "cell_type": "markdown",
   "metadata": {},
   "source": [
    "#### B. Show histrogram of `X` .... Is it the right  Gaussian distribution? (1 scores)"
   ]
  },
  {
   "cell_type": "code",
   "execution_count": null,
   "metadata": {
    "deletable": false,
    "nbgrader": {
     "checksum": "b0f8b87e08bf58579ad67e8614bf1278",
     "grade": false,
     "grade_id": "q13_visualize_X_hist",
     "locked": false,
     "schema_version": 3,
     "solution": true,
     "task": false
    }
   },
   "outputs": [],
   "source": [
    "dirpath = os.getcwd()\n",
    "ploting_name = \"Q1.3.B.histrogram_of_X_gaussian_distribution\"\n",
    "\n",
    "RV_label_list = [r'$X_i$, $Gauss$ with $\\mu$ and $\\tau$']\n",
    "color_list    = [\"red\"]   \n",
    "\n",
    "# Your code starts here ...\n",
    "\n",
    "# Hint!\n",
    "\n",
    "# Define the data_population_list ...   look at the above hint\n",
    "\n",
    "# YOUR CODE HERE\n",
    "raise NotImplementedError()\n",
    "\n",
    "# Your code ends here .\n"
   ]
  },
  {
   "cell_type": "code",
   "execution_count": null,
   "metadata": {
    "deletable": false,
    "editable": false,
    "nbgrader": {
     "checksum": "f83fac4a8924062c5d5b6b4ea32c3d4d",
     "grade": true,
     "grade_id": "q13_visualize_X_hist_plot",
     "locked": true,
     "points": 1,
     "schema_version": 3,
     "solution": false,
     "task": false
    }
   },
   "outputs": [],
   "source": [
    "hist_plot(data_population_list, RV_label=RV_label_list, color_list=color_list, num_bins=100, dirpath=dirpath, ploting_name=ploting_name)"
   ]
  },
  {
   "cell_type": "markdown",
   "metadata": {},
   "source": [
    "---"
   ]
  },
  {
   "cell_type": "markdown",
   "metadata": {},
   "source": [
    "#### C. Show histrogram of `Noise` .... Is it the right  Gaussian distribution? (1 scores)"
   ]
  },
  {
   "cell_type": "code",
   "execution_count": null,
   "metadata": {
    "deletable": false,
    "nbgrader": {
     "checksum": "2eaf29d7d37f07f03d9cb70aed426301",
     "grade": false,
     "grade_id": "q13_visualize_Noise_hist",
     "locked": false,
     "schema_version": 3,
     "solution": true,
     "task": false
    }
   },
   "outputs": [],
   "source": [
    "dirpath = os.getcwd()\n",
    "ploting_name = \"Q1.3.C.histrogram_of_Noise_gaussian_distribution\"\n",
    "\n",
    "RV_label_list = [r'$N$, $Gauss$ with $0$ and $\\sigma^2_v$']\n",
    "color_list    = [\"green\"]   \n",
    "\n",
    "# Your code starts here ...\n",
    "\n",
    "# Hint!\n",
    "\n",
    "# Define the data_population_list ...   \n",
    "\n",
    "# YOUR CODE HERE\n",
    "raise NotImplementedError()\n",
    "\n",
    "# Your code ends here .."
   ]
  },
  {
   "cell_type": "code",
   "execution_count": null,
   "metadata": {
    "deletable": false,
    "editable": false,
    "nbgrader": {
     "checksum": "357e02b69ad619e5592f5123880536c8",
     "grade": true,
     "grade_id": "q13_visualize_Noise_hist_noise",
     "locked": true,
     "points": 1,
     "schema_version": 3,
     "solution": false,
     "task": false
    }
   },
   "outputs": [],
   "source": [
    "hist_plot(data_population_list, RV_label=RV_label_list, color_list=color_list, num_bins=100, dirpath=dirpath, ploting_name=ploting_name)"
   ]
  },
  {
   "cell_type": "markdown",
   "metadata": {},
   "source": [
    "---"
   ]
  },
  {
   "cell_type": "markdown",
   "metadata": {},
   "source": [
    "#### D. Show that the histrogram of `Y` that is the summation of `X` and `N` ? (1 scores) \n",
    "- Plot the overlayed histrograms between `X` and `N`. You should use different colors for `X` and `N` ...\n",
    "- Then, compare the histrogram of `Y` with the overlayed histrogram."
   ]
  },
  {
   "cell_type": "code",
   "execution_count": null,
   "metadata": {
    "deletable": false,
    "nbgrader": {
     "checksum": "6c4c50550f2d59a671b80d0d7c5bac8d",
     "grade": false,
     "grade_id": "q13_visualize_Y_hist",
     "locked": false,
     "schema_version": 3,
     "solution": true,
     "task": false
    }
   },
   "outputs": [],
   "source": [
    "dirpath = os.getcwd()\n",
    "ploting_name = \"Q1.3.D.histrogram_of_Y_sum_of_two_distributions\"\n",
    "\n",
    "RV_label_list = ['$Y= X_i + N$', r'$X$, $Gauss$ with $\\mu$ and $\\tau$', r'$N$, $Gauss$ with $0$ and $\\sigma^2_v$']\n",
    "color_list    = [\"blue\", \"red\", \"green\"]\n",
    "\n",
    "# Your code starts here ...\n",
    "\n",
    "# Hint!\n",
    "# data_population_list = list of Y, X, and Noise\n",
    "# YOUR CODE HERE\n",
    "raise NotImplementedError()\n",
    "\n",
    "\n",
    "# Your code ends here ..."
   ]
  },
  {
   "cell_type": "code",
   "execution_count": null,
   "metadata": {
    "deletable": false,
    "editable": false,
    "nbgrader": {
     "checksum": "c0fb9a2a4075240db4c1ac8890c0a1cc",
     "grade": true,
     "grade_id": "q13_visualize_Y_hist_plot",
     "locked": true,
     "points": 1,
     "schema_version": 3,
     "solution": false,
     "task": false
    }
   },
   "outputs": [],
   "source": [
    "hist_plot(data_population_list, RV_label=RV_label_list, color_list=color_list, num_bins=100, dirpath=dirpath, ploting_name=ploting_name)"
   ]
  },
  {
   "cell_type": "markdown",
   "metadata": {},
   "source": [
    "---"
   ]
  },
  {
   "cell_type": "markdown",
   "metadata": {},
   "source": [
    "## Q.2 Implementation of MAP/MLE Estimator (6 scores)"
   ]
  },
  {
   "cell_type": "markdown",
   "metadata": {},
   "source": [
    "**Scoring**"
   ]
  },
  {
   "cell_type": "markdown",
   "metadata": {},
   "source": [
    "- **Your analyses.** Analytical solutions for MLE and MAP for $X_i$....  (4 scores)\n",
    "\n",
    "- **Your implementation.** Provide implementation for MLE and MAP for $X_i$ and then $\\mathbf{x}$.... (8  scores)  "
   ]
  },
  {
   "cell_type": "markdown",
   "metadata": {},
   "source": [
    "### Q.2.1 **Analytical Solutions of MAP/MLE Estimator for $X_i$**  (2 scores)"
   ]
  },
  {
   "cell_type": "markdown",
   "metadata": {},
   "source": [
    "---"
   ]
  },
  {
   "cell_type": "markdown",
   "metadata": {},
   "source": [
    "A. Analytical solutions for MLE for $X_i$ ? (1 scores)"
   ]
  },
  {
   "cell_type": "markdown",
   "metadata": {
    "deletable": false,
    "nbgrader": {
     "checksum": "b054c69e861ab29a613457c03abe1c00",
     "grade": true,
     "grade_id": "q21_mle",
     "locked": false,
     "points": 1,
     "schema_version": 3,
     "solution": true,
     "task": false
    }
   },
   "source": [
    "$X_i = ...  \n",
    "\n",
    "YOUR ANSWER HERE"
   ]
  },
  {
   "cell_type": "markdown",
   "metadata": {},
   "source": [
    "B. Analytical solutions for MAP for $X_i$ (1 scores)"
   ]
  },
  {
   "cell_type": "markdown",
   "metadata": {
    "deletable": false,
    "nbgrader": {
     "checksum": "01a094f96a297e25249c2699fb695893",
     "grade": true,
     "grade_id": "q21_map",
     "locked": false,
     "points": 1,
     "schema_version": 3,
     "solution": true,
     "task": false
    }
   },
   "source": [
    "$X_i = ... \n",
    "\n",
    "YOUR ANSWER HERE"
   ]
  },
  {
   "cell_type": "markdown",
   "metadata": {},
   "source": [
    "---"
   ]
  },
  {
   "cell_type": "markdown",
   "metadata": {},
   "source": [
    "### Q 2.2 **Implementation of MAP/MLE Estimator for $X_i$  and $x$**  (4 scores)"
   ]
  },
  {
   "cell_type": "markdown",
   "metadata": {},
   "source": [
    "A. MLE implementation (1 scores)"
   ]
  },
  {
   "cell_type": "code",
   "execution_count": null,
   "metadata": {
    "deletable": false,
    "nbgrader": {
     "checksum": "d5d8236b0205be95794deef18e4d1653",
     "grade": false,
     "grade_id": "q22_implement_MLE",
     "locked": false,
     "schema_version": 3,
     "solution": true,
     "task": false
    }
   },
   "outputs": [],
   "source": [
    "def x_MLE(Y, K):\n",
    "    # YOUR CODE HERE\n",
    "    raise NotImplementedError()\n",
    "    return x_mle[:, np.newaxis,:]\n"
   ]
  },
  {
   "cell_type": "markdown",
   "metadata": {},
   "source": [
    "B. MAP implementation (3 scores)"
   ]
  },
  {
   "cell_type": "code",
   "execution_count": null,
   "metadata": {
    "deletable": false,
    "nbgrader": {
     "checksum": "93c852d3e8aa6a586aca6e5a2c2ef6cf",
     "grade": false,
     "grade_id": "q22_implement_MAP",
     "locked": false,
     "schema_version": 3,
     "solution": true,
     "task": false
    }
   },
   "outputs": [],
   "source": [
    "def x_MAP(Y, K, mu, tau, sigma_v):\n",
    "    # YOUR CODE HERE\n",
    "    raise NotImplementedError()\n",
    "    return x_map"
   ]
  },
  {
   "cell_type": "markdown",
   "metadata": {},
   "source": [
    "---"
   ]
  },
  {
   "cell_type": "markdown",
   "metadata": {},
   "source": [
    "## Q.3 Verify your results (8 scores)"
   ]
  },
  {
   "cell_type": "markdown",
   "metadata": {},
   "source": [
    "---"
   ]
  },
  {
   "cell_type": "markdown",
   "metadata": {},
   "source": [
    "### Q.3.1 Checking with respect to the generated $X$ (4 scores)"
   ]
  },
  {
   "cell_type": "markdown",
   "metadata": {},
   "source": [
    "- Perform estimation for $X_i$ given $Y$ and the rest of parameters"
   ]
  },
  {
   "cell_type": "code",
   "execution_count": null,
   "metadata": {
    "deletable": false,
    "editable": false,
    "nbgrader": {
     "checksum": "f67a63610ff14b7026d05effd9b25be1",
     "grade": true,
     "grade_id": "q31_run_MLE",
     "locked": true,
     "points": 1,
     "schema_version": 3,
     "solution": false,
     "task": false
    }
   },
   "outputs": [],
   "source": [
    "x_mle =  x_MLE(Y, K)"
   ]
  },
  {
   "cell_type": "code",
   "execution_count": null,
   "metadata": {
    "deletable": false,
    "editable": false,
    "nbgrader": {
     "checksum": "49d036d50d2a8169fb42b89f093f94ef",
     "grade": true,
     "grade_id": "q31_run_MAP",
     "locked": true,
     "points": 3,
     "schema_version": 3,
     "solution": false,
     "task": false
    }
   },
   "outputs": [],
   "source": [
    "x_map =  x_MAP(Y, K, mu, tau, sigma_v) "
   ]
  },
  {
   "cell_type": "markdown",
   "metadata": {},
   "source": [
    "- The histrogram comparisons between `x_mle`, `x_map`, and `X`. (4 scores)"
   ]
  },
  {
   "cell_type": "code",
   "execution_count": null,
   "metadata": {
    "deletable": false,
    "nbgrader": {
     "checksum": "eace167992766a2c0a6d08e144c46839",
     "grade": false,
     "grade_id": "q31_hist_MLE_MAP",
     "locked": false,
     "schema_version": 3,
     "solution": true,
     "task": false
    }
   },
   "outputs": [],
   "source": [
    "dirpath = os.getcwd()\n",
    "ploting_name = \"Q2.3 Histrogram_of_X_MLE_X_MAP_and_X\"\n",
    "\n",
    "RV_label_list = ['$X_i$',  \"${X_i}_{MLE}$\",  \"${X_i}_{MAP}$\"]\n",
    "color_list    = [\"blue\",  \"red\",  \"green\"]\n",
    "\n",
    "# Your code starts here ...\n",
    "\n",
    "# Hint!\n",
    "# data_population_list = list of X, x_mle, and x_map \n",
    "# You can use `hist_plot` to perform the task\n",
    "\n",
    "# YOUR CODE HERE\n",
    "raise NotImplementedError()\n",
    "\n",
    "# Your code ends here ..."
   ]
  },
  {
   "cell_type": "code",
   "execution_count": null,
   "metadata": {
    "deletable": false,
    "editable": false,
    "nbgrader": {
     "checksum": "eb284b7ce77f23c3b0c2b354ae6f19ea",
     "grade": true,
     "grade_id": "q31_hist_MLE_MAP_plot",
     "locked": true,
     "points": 4,
     "schema_version": 3,
     "solution": false,
     "task": false
    }
   },
   "outputs": [],
   "source": [
    "hist_plot(data_population_list, RV_label=RV_label_list, color_list=color_list, num_bins=100, dirpath=dirpath, ploting_name=ploting_name) "
   ]
  },
  {
   "cell_type": "markdown",
   "metadata": {},
   "source": [
    "---"
   ]
  },
  {
   "cell_type": "markdown",
   "metadata": {},
   "source": [
    "### Q.3.2 Verify with $KL$-divergence ? (4 scores)"
   ]
  },
  {
   "cell_type": "markdown",
   "metadata": {},
   "source": [
    "This section we will compare the KL divergence between `x_mle` and `X` versus `x_map` and `X`."
   ]
  },
  {
   "cell_type": "markdown",
   "metadata": {},
   "source": [
    "---"
   ]
  },
  {
   "cell_type": "markdown",
   "metadata": {},
   "source": [
    "#### A. Before we go, can you provide the definition of KL-divergence ...(1 score) \n",
    "\n",
    "Let: \n",
    "- $P(x)$ is for the reference distribution.\n",
    "- $Q(x)$ is for the testing distribution."
   ]
  },
  {
   "cell_type": "markdown",
   "metadata": {
    "deletable": false,
    "nbgrader": {
     "checksum": "398d56f2a0dd0d0612409eaa22ce4cfe",
     "grade": true,
     "grade_id": "q32_KL_divergence_def",
     "locked": false,
     "points": 1,
     "schema_version": 3,
     "solution": true,
     "task": false
    }
   },
   "source": [
    "YOUR ANSWER HERE"
   ]
  },
  {
   "cell_type": "code",
   "execution_count": null,
   "metadata": {},
   "outputs": [],
   "source": [
    "def KL_expo(P_samples, Q_samples ): \n",
    "    KL = np.sum(P_samples * np.log(P_samples / Q_samples))\n",
    "    return KL"
   ]
  },
  {
   "cell_type": "markdown",
   "metadata": {},
   "source": [
    "Prepare $P$ and $Q$ for KL divergence computation"
   ]
  },
  {
   "cell_type": "code",
   "execution_count": null,
   "metadata": {},
   "outputs": [],
   "source": [
    "eps = 1e-10 # eps is used to up make sure that both P and Q will not be absolute zero at the same time, which can result in NaN.\n",
    "\n",
    "# To calculate the KL-divergence empirically, we need to estimate the density for each distribution to be used as the input for KL-divergence calculation.\n",
    "\n",
    "P_samples,_      = np.histogram(X[:,0,0],     bins=np.arange(-10,10,0.5), density=True)\n",
    "Q_samples_mle ,_ = np.histogram(x_mle[:,0,0], bins=np.arange(-10,10,0.5), density=True) \n",
    "Q_samples_map,_  = np.histogram(x_map[:,0,0], bins=np.arange(-10,10,0.5), density=True) \n",
    "\n",
    "P_samples = P_samples + eps\n",
    "Q_samples_mle = Q_samples_mle + eps \n",
    "Q_samples_map = Q_samples_map + eps "
   ]
  },
  {
   "cell_type": "markdown",
   "metadata": {},
   "source": [
    "---"
   ]
  },
  {
   "cell_type": "markdown",
   "metadata": {},
   "source": [
    "#### B. What is the KL divergence  between X and X_mle ? (1 scores)"
   ]
  },
  {
   "cell_type": "markdown",
   "metadata": {},
   "source": [
    "Hint!  KL_PQ_mle = KL_expo(P_samples, Q_samples_mle)"
   ]
  },
  {
   "cell_type": "code",
   "execution_count": null,
   "metadata": {
    "deletable": false,
    "nbgrader": {
     "checksum": "e50c7b3e5fcb6085eadec522fb20a1e2",
     "grade": false,
     "grade_id": "q32_B_KL_X_Xmle",
     "locked": false,
     "schema_version": 3,
     "solution": true,
     "task": false
    }
   },
   "outputs": [],
   "source": [
    "# KL_PQ_mle will be used to store the KL divergence\n",
    "\n",
    "# Start your code here\n",
    "\n",
    "# YOUR CODE HERE\n",
    "raise NotImplementedError()\n",
    "\n",
    "# your code ends here  "
   ]
  },
  {
   "cell_type": "code",
   "execution_count": null,
   "metadata": {
    "deletable": false,
    "editable": false,
    "nbgrader": {
     "checksum": "51de4f108b4110583d8c268d5b505762",
     "grade": true,
     "grade_id": "q32_B_KL_X_Xmle_check",
     "locked": true,
     "points": 1,
     "schema_version": 3,
     "solution": false,
     "task": false
    }
   },
   "outputs": [],
   "source": [
    "print(\"KL divergence between X and X_mle: %.10f\" % KL_PQ_mle )\n",
    "\n",
    "assert KL_PQ_mle > 0 and KL_PQ_mle <= 10"
   ]
  },
  {
   "cell_type": "markdown",
   "metadata": {},
   "source": [
    "---"
   ]
  },
  {
   "cell_type": "markdown",
   "metadata": {},
   "source": [
    "#### C. What is the KL divergence  between X and X_map ?  (2 scores)"
   ]
  },
  {
   "cell_type": "code",
   "execution_count": null,
   "metadata": {
    "deletable": false,
    "nbgrader": {
     "checksum": "1d62bdf0ed711464baacd54e157920c9",
     "grade": false,
     "grade_id": "q32_B_KL_X_Xmap",
     "locked": false,
     "schema_version": 3,
     "solution": true,
     "task": false
    }
   },
   "outputs": [],
   "source": [
    "# KL_PQ_map will be used to store the KL divergence\n",
    "\n",
    "# Start your code here\n",
    "\n",
    "# YOUR CODE HERE\n",
    "raise NotImplementedError()\n",
    "\n",
    "# your code ends here"
   ]
  },
  {
   "cell_type": "code",
   "execution_count": null,
   "metadata": {
    "deletable": false,
    "editable": false,
    "nbgrader": {
     "checksum": "e650678c45d2a7f8d32d65423eca0968",
     "grade": true,
     "grade_id": "q32_B_KL_X_Xmap_checking",
     "locked": true,
     "points": 2,
     "schema_version": 3,
     "solution": false,
     "task": false
    }
   },
   "outputs": [],
   "source": [
    "print(\"KL divergence between X and X_map: %.10f \" % KL_PQ_map )\n",
    "assert KL_PQ_map > 0 and KL_PQ_map <= 10 "
   ]
  },
  {
   "cell_type": "markdown",
   "metadata": {},
   "source": [
    "---"
   ]
  },
  {
   "cell_type": "markdown",
   "metadata": {},
   "source": [
    "## Q.4 Alternative tools (FitDist or `scipy.stats.fit`)....(10 scores)"
   ]
  },
  {
   "cell_type": "markdown",
   "metadata": {},
   "source": [
    "---"
   ]
  },
  {
   "cell_type": "markdown",
   "metadata": {},
   "source": [
    "### Q.4.1 What is the algorithm behind `scipy.stats.fit`...   (a) MLE or (b) MAP ?  (1 score)"
   ]
  },
  {
   "cell_type": "markdown",
   "metadata": {},
   "source": [
    "Hint! You can check for the answer from the official website from scipy by clicking [here](https://docs.scipy.org/doc/scipy/reference/generated/scipy.stats.fit.html)... "
   ]
  },
  {
   "cell_type": "markdown",
   "metadata": {
    "deletable": false,
    "nbgrader": {
     "checksum": "ef50d9d972ea746dba65622ff02f50ec",
     "grade": true,
     "grade_id": "q4_scipy_stat_fit",
     "locked": false,
     "points": 1,
     "schema_version": 3,
     "solution": true,
     "task": false
    }
   },
   "source": [
    "YOUR ANSWER HERE"
   ]
  },
  {
   "cell_type": "markdown",
   "metadata": {},
   "source": [
    "---"
   ]
  },
  {
   "cell_type": "markdown",
   "metadata": {},
   "source": [
    "### Q.4.2 Implement `scipy.stats.fit` for estimating $X_i$ which is the explectation of $Y_i$. (4 scores)"
   ]
  },
  {
   "cell_type": "markdown",
   "metadata": {},
   "source": [
    "Hint! You can use `stats.norm.fit(Y)` to check for the parameters of $Y$ as a Gaussian random samples. "
   ]
  },
  {
   "cell_type": "code",
   "execution_count": null,
   "metadata": {
    "deletable": false,
    "nbgrader": {
     "checksum": "a65bdb0d71db25c7ad1baafff3532115",
     "grade": false,
     "grade_id": "q42_implement_scipy_stats",
     "locked": false,
     "schema_version": 3,
     "solution": true,
     "task": false
    }
   },
   "outputs": [],
   "source": [
    "# your code starts here\n",
    "\n",
    "import numpy as np\n",
    "from scipy import stats \n",
    "\n",
    "mu_Y  = np.zeros_like(X)    # To store the estimated expectation of Y_i \n",
    "var_y = []                  # To store the estimated variance of Y_i\n",
    "\n",
    "# YOUR CODE HERE\n",
    "raise NotImplementedError()\n",
    "\n",
    "# your code ends here   "
   ]
  },
  {
   "cell_type": "code",
   "execution_count": null,
   "metadata": {
    "deletable": false,
    "editable": false,
    "nbgrader": {
     "checksum": "aaccb36ba5d37dfd28dfc647cf374eef",
     "grade": true,
     "grade_id": "q42_implement_scipy_stats_check",
     "locked": true,
     "points": 4,
     "schema_version": 3,
     "solution": false,
     "task": false
    }
   },
   "outputs": [],
   "source": [
    "# Check that  mu_Y and X are numpy arrays with the dimension M x 1 x N\n",
    "assert mu_Y.shape[0] == X.shape[0]  == M   \n",
    "assert mu_Y.shape[2] == X.shape[2]  == N  \n",
    "assert mu_Y.shape[1] == X.shape[1]  == 1 "
   ]
  },
  {
   "cell_type": "markdown",
   "metadata": {},
   "source": [
    "---"
   ]
  },
  {
   "cell_type": "markdown",
   "metadata": {},
   "source": [
    "### Q.4.3 Check your results ... (5 scores)"
   ]
  },
  {
   "cell_type": "markdown",
   "metadata": {},
   "source": [
    "#### A. Find KL divergence between reference $X_i$ and results from scipy.stats.fit (2 scores)"
   ]
  },
  {
   "cell_type": "markdown",
   "metadata": {},
   "source": [
    "Hint ! Use KL_expo()"
   ]
  },
  {
   "cell_type": "code",
   "execution_count": null,
   "metadata": {
    "deletable": false,
    "nbgrader": {
     "checksum": "9bf8586f9e3524b8901a6c6d2fb5aaeb",
     "grade": false,
     "grade_id": "q43_KL_X_vs_fitdist",
     "locked": false,
     "schema_version": 3,
     "solution": true,
     "task": false
    }
   },
   "outputs": [],
   "source": [
    "# Start your code here \n",
    "\n",
    "# YOUR CODE HERE\n",
    "raise NotImplementedError() \n",
    "# end your code here \n"
   ]
  },
  {
   "cell_type": "code",
   "execution_count": null,
   "metadata": {
    "deletable": false,
    "editable": false,
    "nbgrader": {
     "checksum": "6f4da9193b4a621b0425c44497766094",
     "grade": true,
     "grade_id": "q43_KL_X_vs_fitdist_check",
     "locked": true,
     "points": 1,
     "schema_version": 3,
     "solution": false,
     "task": false
    }
   },
   "outputs": [],
   "source": [
    "print(\"KL-Fitdist [%.10f]\" % ( KL_PQ_fitdist))"
   ]
  },
  {
   "cell_type": "code",
   "execution_count": null,
   "metadata": {
    "deletable": false,
    "editable": false,
    "nbgrader": {
     "checksum": "e1f6f5de4d08277b5c6f305fb80ab463",
     "grade": true,
     "grade_id": "q43_KL_X_vs_fitdist_hidden",
     "locked": true,
     "points": 1,
     "schema_version": 3,
     "solution": false,
     "task": false
    }
   },
   "outputs": [],
   "source": []
  },
  {
   "cell_type": "markdown",
   "metadata": {},
   "source": [
    "#### B. Find KL divergence between the estimator of your choice and one from scipy.stats.fit where you should compute both cases: (2 scores)"
   ]
  },
  {
   "cell_type": "markdown",
   "metadata": {},
   "source": [
    "- Case 1.  P is the estimator of your choice (${X_{MLE}}_i$ or ${X_{MAP}}_i$), and Q is the results from scipy.stats.fit  (1 scores)"
   ]
  },
  {
   "cell_type": "code",
   "execution_count": null,
   "metadata": {
    "deletable": false,
    "nbgrader": {
     "checksum": "b862d6959074d35d1be60c2cd6876ea1",
     "grade": false,
     "grade_id": "q43_KL_Xc_vs_fitdist",
     "locked": false,
     "schema_version": 3,
     "solution": true,
     "task": false
    }
   },
   "outputs": [],
   "source": [
    "# Start your code here \n",
    "\n",
    "# YOUR CODE HERE\n",
    "raise NotImplementedError()\n",
    "\n",
    "# end your code here "
   ]
  },
  {
   "cell_type": "code",
   "execution_count": null,
   "metadata": {
    "deletable": false,
    "editable": false,
    "nbgrader": {
     "checksum": "b6db334a6de1d47d0bdceab38ca2b010",
     "grade": true,
     "grade_id": "q43_KL_Xc_vs_fitdist_check",
     "locked": true,
     "points": 1,
     "schema_version": 3,
     "solution": false,
     "task": false
    }
   },
   "outputs": [],
   "source": [
    "print(\"KL-P-CHOICE-Q-Fitdist [%.10f] \" % (KL_P_CHOICE_Q_fitdist ))  \n",
    "assert KL_P_CHOICE_Q_fitdist < 1e-3  "
   ]
  },
  {
   "cell_type": "markdown",
   "metadata": {},
   "source": [
    "- Case 2.  switch P and Q. (1 scores)"
   ]
  },
  {
   "cell_type": "code",
   "execution_count": null,
   "metadata": {
    "deletable": false,
    "nbgrader": {
     "checksum": "b2cdfa89233185b88895eb0cf5e10c01",
     "grade": false,
     "grade_id": "q43_KL_Xc_vs_fitdist_switch",
     "locked": false,
     "schema_version": 3,
     "solution": true,
     "task": false
    }
   },
   "outputs": [],
   "source": [
    "# Start your code here  \n",
    "\n",
    "# YOUR CODE HERE\n",
    "raise NotImplementedError()\n",
    " \n",
    "# end your code here "
   ]
  },
  {
   "cell_type": "code",
   "execution_count": null,
   "metadata": {
    "deletable": false,
    "editable": false,
    "nbgrader": {
     "checksum": "6c894a32090a73dca7d44126fb6fd34b",
     "grade": true,
     "grade_id": "q43_KL_Xc_vs_fitdist_switch_check",
     "locked": true,
     "points": 1,
     "schema_version": 3,
     "solution": false,
     "task": false
    }
   },
   "outputs": [],
   "source": [
    "print(\"KL-P-Fitdist-Q-CHOICE [%.10f] \" % (KL_P_fitdist_Q_CHOICE)) \n",
    "assert KL_P_fitdist_Q_CHOICE < 1e-3  "
   ]
  },
  {
   "cell_type": "markdown",
   "metadata": {},
   "source": [
    "#### C. Compare the histogram of the estimator of your choice and `scipy.stats.fit` (1 score)"
   ]
  },
  {
   "cell_type": "code",
   "execution_count": null,
   "metadata": {
    "deletable": false,
    "nbgrader": {
     "checksum": "55ca8763bef69eabe52b68c97ce2685a",
     "grade": false,
     "grade_id": "q43_hist_check",
     "locked": false,
     "schema_version": 3,
     "solution": true,
     "task": false
    }
   },
   "outputs": [],
   "source": [
    "dirpath = os.getcwd()\n",
    "ploting_name = \"Q4.C.3 Histrogram_of_X_fitdist_vs_your_chosen_estimator\"\n",
    "\n",
    "RV_label_list = ['${X_i}_{fitdist}$',  \"${X_i}_{choice}$\" ]\n",
    "color_list    = [\"blue\",  \"red\" ]\n",
    "\n",
    "# Your code starts here ...\n",
    "\n",
    "# Hint!\n",
    "# data_population_list = list of mu_Y and estimator of your choice ( x_mle or x_map) \n",
    "# You can use `hist_plot` to perform the task\n",
    "\n",
    "# YOUR CODE HERE\n",
    "raise NotImplementedError()\n",
    "\n",
    "# Your code ends here ..."
   ]
  },
  {
   "cell_type": "code",
   "execution_count": null,
   "metadata": {
    "deletable": false,
    "editable": false,
    "nbgrader": {
     "checksum": "31e4d554bf64e383854fdd1190b76e24",
     "grade": true,
     "grade_id": "q43_hist_check_plot",
     "locked": true,
     "points": 1,
     "schema_version": 3,
     "solution": false,
     "task": false
    }
   },
   "outputs": [],
   "source": [
    "hist_plot(data_population_list, RV_label=RV_label_list, color_list=color_list, num_bins=100, dirpath=dirpath, ploting_name=ploting_name) "
   ]
  }
 ],
 "metadata": {
  "kernelspec": {
   "display_name": "Python 3 (ipykernel)",
   "language": "python",
   "name": "python3"
  },
  "language_info": {
   "codemirror_mode": {
    "name": "ipython",
    "version": 3
   },
   "file_extension": ".py",
   "mimetype": "text/x-python",
   "name": "python",
   "nbconvert_exporter": "python",
   "pygments_lexer": "ipython3",
   "version": "3.11.4"
  }
 },
 "nbformat": 4,
 "nbformat_minor": 4
}
