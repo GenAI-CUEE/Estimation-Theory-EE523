{
 "cells": [
  {
   "cell_type": "markdown",
   "metadata": {},
   "source": [
    "## Coding for Lecture V Maximum A Posteriori Estimation\n",
    "\n",
    "by *Suwichaya Suwanwimolkul, Ph.D.*\n",
    "\n",
    "[![Open In Colab](https://colab.research.google.com/assets/colab-badge.svg)](https://colab.research.google.com/github/GenAI-CUEE/Estimation-Theory-EE523/blob/master/Tutorial4/main.ipynb) \n",
    "\n",
    "The coding exercies and examples are used as parts of  *Lecture VI: LMSE, Wiener Filtering, Maximum A Posteriori*  in **Estimation Theory EE2102523**. \n",
    "\n",
    "The topics covered in this exercise are: \n",
    "- [Maximum A Posteriori Estimation](#maximum-a-posteriori-estimation)\n",
    "    - [The MAP Algorithm](#map-algorithm)\n",
    "    - [Extension to estimate parameters in priors](#extend-the-map-estimator-to-update-the-parameters-of-prior-distribution)\n",
    "    - [Apply to reconstruct compressed data using MAP](#apply-map-estimation)\n",
    "    - [Apply to reconstruct compressed data using MLE](#what-if-there-is-no-prior--using-mle)\n",
    "    - [Compairison](#plot-outputs)\n",
    "\n",
    "Note: Don't forget to do `pip install -r requirements.txt`\n",
    "\n",
    "References:\n",
    "\n",
    "1. How to check https://online.stat.psu.edu/stat510/\n",
    "2. Coding (in matlab version): https://dspcookbook.github.io/ ...\n"
   ]
  },
  {
   "cell_type": "code",
   "execution_count": null,
   "metadata": {},
   "outputs": [],
   "source": [
    "! pip install numpy pandas tqdm matplotlib joypy torch torchvision torchaudio"
   ]
  },
  {
   "cell_type": "code",
   "execution_count": 2,
   "metadata": {},
   "outputs": [],
   "source": [
    "import numpy as np \n",
    "import matplotlib.image as mpimg\n",
    "import matplotlib.pyplot as plt \n",
    "import numpy as np\n",
    "from scipy.linalg import toeplitz \n",
    "import pdb"
   ]
  },
  {
   "cell_type": "markdown",
   "metadata": {},
   "source": [
    "## Maximum A Posteriori Estimation"
   ]
  },
  {
   "cell_type": "markdown",
   "metadata": {},
   "source": [
    "### MAP Algorithm"
   ]
  },
  {
   "cell_type": "markdown",
   "metadata": {},
   "source": [
    "The likelihood $f_{Y|X}(y|x)$ is $ f_{Y|X}(y|x) = \\mathcal{N}(AX, \\sigma_V^2)$, and the prior $f_{X}(x)$  is $ f_{X}(x) = \\text{Laplacian}(X; \\lambda, \\mu)$.  \n",
    "\n",
    " \n",
    "Thus, the MAP can be formulated by  \n",
    "$$\\argmin_{x \\in \\mathcal{R}^N}  \\frac{1}{\\sigma_V^2} {|| y - Ax ||^2_2} +  \\lambda^{-1} || x - \\mu||_1  $$  \n",
    "\n",
    "This steps follow the equations provided in the lecture...\n",
    "\n",
    "That is, the solutions to this problem are in a soft thresholding form: \n",
    "\n",
    "\\begin{align}\n",
    "    x_j^{MAP} = \n",
    "    \\begin{cases}\n",
    "        \\frac{1}{2} (2 y^T A_j - \\lambda^{-1}_j \\sigma^2_V), &\\text{if}~x_j > \\mu_j   \\\\\n",
    "        \\frac{1}{2} (2 y^T A_j + \\lambda^{-1}_j \\sigma^2_V), &\\text{if}~x_j < \\mu_j    \\\\\n",
    "        0, &\\text{otherwise}.\n",
    "    \\end{cases}\n",
    "\\end{align}\n",
    "\n",
    "Note that in the code below we add the condition there $x_j > 0$ since they are representing pixel values."
   ]
  },
  {
   "cell_type": "code",
   "execution_count": 3,
   "metadata": {},
   "outputs": [],
   "source": [
    "def MAPEstimator(y, A, sigma_v, lambda_gamm, mu_gamma): \n",
    "\n",
    "    dff = sigma_v/(2*lambda_gamm  )\n",
    " \n",
    "    X   = (y.transpose().dot(A)).transpose()\n",
    "\n",
    "    x_return = np.zeros_like(X) \n",
    "    value_a = X - dff   \n",
    "\n",
    "    case_a  = (value_a > mu_gamma) *(value_a > 0 )\n",
    "    x_return[case_a] = value_a[case_a]\n",
    " \n",
    "    value_b = X + dff  \n",
    "    case_b  = (value_b < mu_gamma ) *(value_b > 0 )\n",
    "    x_return[case_b] = value_b[case_b]\n",
    "     \n",
    "    return x_return"
   ]
  },
  {
   "cell_type": "markdown",
   "metadata": {},
   "source": [
    "### Extend the MAP Estimator to update the parameters of prior distribution"
   ]
  },
  {
   "cell_type": "markdown",
   "metadata": {},
   "source": [
    "We estimate the parameters in prior distribution, namely $\\mu$ and $\\lambda$ in $\\text{Laplacian}(X; \\lambda, \\mu)$.\n",
    "\n",
    "We can solve for this via maximum likelihood estimation:\n",
    "\n",
    "$$ \\argmin_{\\lambda, \\mu}  \\sum_{i=1}^N  (  \\frac{|x_i - \\mu|}{b} - \\log{\\frac{1}{2b}}) $$ \n",
    "\n",
    "For this, we can estimate these two parameters as follows:\n",
    "- $\\partial_{\\mu} \\mathcal{L}_{Lap}(X; \\lambda, \\mu)  \\Rightarrow   \\mu = \\frac{\\sum_i x_i}{N}$\n",
    "- $\\partial_{b} \\mathcal{L}_{Lap}(X; \\lambda, \\mu)  \\Rightarrow   \\lambda    = \\frac{\\sum_i |x_i - \\mu|}{N} $\n"
   ]
  },
  {
   "cell_type": "code",
   "execution_count": 4,
   "metadata": {},
   "outputs": [],
   "source": [
    "## These functions are used to update the mu and lambda in Laplacian Distribution\n",
    "\n",
    "def update_lambda(data2D):\n",
    "    mean_2d = np.mean(data2D, axis=2)\n",
    "    b = np.mean(np.abs(data2D - mean_2d.reshape(28,28,1)), axis=2) \n",
    "    return b\n",
    "\n",
    "def sample_mean(data2D):\n",
    "    mean_2d = np.mean(data2D, axis=2)    \n",
    "    return mean_2d"
   ]
  },
  {
   "cell_type": "code",
   "execution_count": 5,
   "metadata": {},
   "outputs": [],
   "source": [
    "def loopy_Estimation(y, A, sigma_v, lambda_gamm, mu_gamma, num_iteration):\n",
    "    mu_gamma_updated    = mu_gamma\n",
    "    lambda_gamm_updated = lambda_gamm\n",
    "    Num_samples = y.shape[1]\n",
    "    x_return_list = [] \n",
    "    for i in range(num_iteration):\n",
    "        x_return = MAPEstimator(y, A, sigma_v, lambda_gamm_updated, mu_gamma_updated)  \n",
    "        data2D_update       = x_return.reshape(28,28, Num_samples) \n",
    "        mu_gamma_updated    = sample_mean(data2D_update) \n",
    "        mu_gamma_updated    = mu_gamma_updated.reshape(28*28,1)\n",
    "\n",
    "        lambda_gamm_updated = update_lambda(data2D_update) \n",
    "        lambda_gamm_updated = lambda_gamm_updated.reshape(28*28,1)\n",
    "        x_return_list.append(x_return)\n",
    "  \n",
    "        \n",
    "    return x_return_list"
   ]
  },
  {
   "cell_type": "markdown",
   "metadata": {},
   "source": [
    "#### Load Data"
   ]
  },
  {
   "cell_type": "code",
   "execution_count": 6,
   "metadata": {},
   "outputs": [],
   "source": [
    "import numpy as np \n",
    "import matplotlib.pyplot as plt \n",
    "import numpy as np \n",
    "\n",
    "import torch.utils.data  \n",
    "from torchvision import datasets, transforms \n",
    "\n",
    "\n",
    "test_loader = torch.utils.data.DataLoader(\n",
    "    datasets.MNIST('../data', train=False, download=True,\n",
    "                transform=transforms.ToTensor()), batch_size=1, shuffle=False)\n",
    "\n",
    "data_vect = []\n",
    "label_vect_ = []\n",
    "for i, (data, label) in enumerate(test_loader):\n",
    "    data_vect.append(data.view(28,28).numpy())\n",
    "    label_vect_.append(label.numpy()[0])\n",
    "\n",
    "label_vect  = np.array(label_vect_)\n",
    "data2D      = np.stack(data_vect, axis=-1)\n",
    "Num_samples = data2D.shape[2]"
   ]
  },
  {
   "cell_type": "markdown",
   "metadata": {},
   "source": [
    "#### Simulation Settings"
   ]
  },
  {
   "cell_type": "code",
   "execution_count": 7,
   "metadata": {},
   "outputs": [],
   "source": [
    "sigma_v           = 1e-10\n",
    "num_iteration     = 1\n",
    "compression_ratio = 0.5\n",
    "\n",
    "n_compressed_data = int(compression_ratio*28*28) \n",
    "A                 = np.random.randn(n_compressed_data, 28*28)/(np.sqrt(n_compressed_data))  \n",
    "v                 = sigma_v*np.random.randn(1, 1)  \n",
    "yA                = A.dot(data2D.reshape(28*28,-1)).reshape(n_compressed_data,-1)  \n",
    "\n",
    "y                 = yA  + v  "
   ]
  },
  {
   "cell_type": "markdown",
   "metadata": {},
   "source": [
    "### Apply MAP Estimation"
   ]
  },
  {
   "cell_type": "code",
   "execution_count": 8,
   "metadata": {},
   "outputs": [
    {
     "name": "stderr",
     "output_type": "stream",
     "text": [
      "/tmp/ipykernel_30228/3819130981.py:3: RuntimeWarning: divide by zero encountered in divide\n",
      "  dff = sigma_v/(2*lambda_gamm  )\n"
     ]
    }
   ],
   "source": [
    "mu_gamma_    = sample_mean(data2D)\n",
    "mu_gamma    =  mu_gamma_.reshape(28*28,1)\n",
    "\n",
    "lambda_gamm_ = update_lambda(data2D)  \n",
    "lambda_gamm  = lambda_gamm_.reshape(28*28,1)\n",
    "\n",
    "x_hat_list   = loopy_Estimation(y, A,  0.01, lambda_gamm, mu_gamma, num_iteration)"
   ]
  },
  {
   "cell_type": "markdown",
   "metadata": {},
   "source": [
    "#### Let's look at the priors"
   ]
  },
  {
   "cell_type": "code",
   "execution_count": 9,
   "metadata": {},
   "outputs": [
    {
     "name": "stderr",
     "output_type": "stream",
     "text": [
      "<>:4: SyntaxWarning: invalid escape sequence '\\m'\n",
      "<>:6: SyntaxWarning: invalid escape sequence '\\l'\n",
      "<>:4: SyntaxWarning: invalid escape sequence '\\m'\n",
      "<>:6: SyntaxWarning: invalid escape sequence '\\l'\n",
      "/tmp/ipykernel_30228/3667060648.py:4: SyntaxWarning: invalid escape sequence '\\m'\n",
      "  ax[0].set_title(\"Gamma's parameter:$\\mu$\")\n",
      "/tmp/ipykernel_30228/3667060648.py:6: SyntaxWarning: invalid escape sequence '\\l'\n",
      "  ax[1].set_title(\"Gamma's parameter:$\\lambda$\")\n"
     ]
    },
    {
     "data": {
      "image/png": "[encoded data removed]",
      "text/plain": [
       "<Figure size 500x200 with 2 Axes>"
      ]
     },
     "metadata": {},
     "output_type": "display_data"
    }
   ],
   "source": [
    "fig, ax = plt.subplots(nrows=1,ncols=2, figsize=(5,2) )\n",
    "\n",
    "ax[0].imshow(mu_gamma.reshape(28,28)) \n",
    "ax[0].set_title(\"Gamma's parameter:$\\mu$\")\n",
    "ax[1].imshow(lambda_gamm.reshape(28,28))\n",
    "ax[1].set_title(\"Gamma's parameter:$\\lambda$\")\n",
    "\n",
    "ax[0].set_axis_off()\n",
    "ax[1].set_axis_off()\n",
    "\n",
    "plt.show()\n"
   ]
  },
  {
   "cell_type": "markdown",
   "metadata": {},
   "source": [
    "### What if there is no prior ... (using MLE)"
   ]
  },
  {
   "cell_type": "markdown",
   "metadata": {},
   "source": [
    "This is equivalent to solving for $x$ via\n",
    "\n",
    "$$\\argmin_{x \\in \\mathcal{R}^N}   \\frac{1}{\\sigma_V^2} {|| y - Ax ||^2_2} $$\n",
    "\n",
    "but $A$ is an orthogonal matrix. Thus, $ \\hat{x}_{no prior} = y^T A$"
   ]
  },
  {
   "cell_type": "code",
   "execution_count": 10,
   "metadata": {},
   "outputs": [],
   "source": [
    "X_no_prior  = (y.transpose().dot(A)).transpose()\n",
    "X_no_prior_all = X_no_prior.reshape(28,28,-1)\n",
    "\n",
    "X_hat_no_prior_plot = X_no_prior_all[:,:,0]"
   ]
  },
  {
   "cell_type": "markdown",
   "metadata": {},
   "source": [
    "### Plot outputs"
   ]
  },
  {
   "cell_type": "code",
   "execution_count": 11,
   "metadata": {},
   "outputs": [],
   "source": [
    "image_system =  mpimg.imread('system.png')"
   ]
  },
  {
   "cell_type": "code",
   "execution_count": 12,
   "metadata": {},
   "outputs": [
    {
     "data": {
      "image/png": "[encoded data removed]",
      "text/plain": [
       "<Figure size 1500x500 with 5 Axes>"
      ]
     },
     "metadata": {},
     "output_type": "display_data"
    }
   ],
   "source": [
    "Num_samples       = y.shape[1]\n",
    "\n",
    "x_hat_with_prior    = x_hat_list[0].reshape(28,28, Num_samples)[:,:,0]     \n",
    "\n",
    "fig, ax = plt.subplots(nrows=1,ncols=5, figsize=(15,5) )\n",
    "\n",
    "ax[0].imshow(data2D[:,:,0] ) \n",
    "ax[0].set_title(\"Original\")\n",
    "ax[1].imshow(y[:,0].reshape(-1,28)) \n",
    "ax[1].set_title(\"Compressed\")\n",
    "ax[2].imshow(image_system) \n",
    "\n",
    "ax[3].imshow(x_hat_with_prior) \n",
    "ax[3].set_title(\"Recon.with Prior\")\n",
    "\n",
    "ax[4].imshow(X_hat_no_prior_plot) \n",
    "ax[4].set_title(\"Recon.without Prior\")\n",
    "\n",
    "ax[0].set_axis_off()\n",
    "ax[1].set_axis_off()\n",
    "ax[2].set_axis_off()\n",
    "ax[3].set_axis_off()\n",
    "ax[4].set_axis_off()\n",
    "\n",
    " \n",
    "\n",
    "plt.show()"
   ]
  }
 ],
 "metadata": {
  "kernelspec": {
   "display_name": "base",
   "language": "python",
   "name": "python3"
  },
  "language_info": {
   "codemirror_mode": {
    "name": "ipython",
    "version": 3
   },
   "file_extension": ".py",
   "mimetype": "text/x-python",
   "name": "python",
   "nbconvert_exporter": "python",
   "pygments_lexer": "ipython3",
   "version": "3.12.4"
  }
 },
 "nbformat": 4,
 "nbformat_minor": 2
}
